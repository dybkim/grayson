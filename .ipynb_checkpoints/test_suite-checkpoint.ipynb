{
 "cells": [
  {
   "cell_type": "code",
   "execution_count": 1,
   "metadata": {},
   "outputs": [
    {
     "name": "stdout",
     "output_type": "stream",
     "text": [
      "Began Sensor: BNO055 9-Axis IMU\n",
      "Began Sensor: Wheel Encoder (Left)\n",
      "Began Sensor: Wheel Encoder (Right)\n",
      "Stopped sensor readings\n",
      "\n",
      "\n",
      "BNO055: [0.01, 0.08, 12.9375, 0.2104177474975586]\n",
      "BNO055: [0.01, 0.05, 12.9375, 0.20284414291381836]\n",
      "BNO055: [0.01, 0.07, 12.9375, 0.20695853233337402]\n",
      "BNO055: [0.03, 0.05, 12.9375, 0.2030017375946045]\n",
      "BNO055: [0.01, 0.06, 12.9375, 0.20520925521850586]\n",
      "BNO055: [0.01, -0.01, 12.9375, 0.20355629920959473]\n",
      "BNO055: [0.02, 0.0, 12.9375, 0.20268940925598145]\n",
      "BNO055: [-0.02, -0.01, 12.9375, 0.2066047191619873]\n",
      "BNO055: [0.0, 0.0, 12.9375, 0.21006250381469727]\n",
      "BNO055: [0.0, 0.01, 12.9375, 0.2029552459716797]\n",
      "BNO055: [0.01, 0.0, 12.9375, 0.2063298225402832]\n",
      "BNO055: [0.0, 0.01, 12.9375, 0.20273327827453613]\n",
      "BNO055: [0.0, -0.02, 12.9375, 0.20311474800109863]\n",
      "BNO055: [0.01, 0.0, 12.9375, 0.20560336112976074]\n",
      "BNO055: [0.0, 0.0, 12.9375, 0.21502065658569336]\n",
      "BNO055: [0.01, 0.0, 12.9375, 0.2061607837677002]\n",
      "BNO055: [0.01, 0.0, 12.9375, 0.2027597427368164]\n",
      "BNO055: [0.0, 0.0, 12.9375, 0.20271563529968262]\n",
      "BNO055: [0.0, 0.0, 12.9375, 0.20473194122314453]\n",
      "BNO055: [0.01, -0.01, 12.9375, 0.2025597095489502]\n",
      "BNO055: [0.0, -0.01, 12.9375, 0.20709753036499023]\n",
      "BNO055: [0.0, 0.0, 12.9375, 0.20256280899047852]\n",
      "BNO055: [-0.01, 0.0, 12.9375, 0.20668339729309082]\n",
      "BNO055: [0.0, -0.01, 12.9375, 0.20605254173278809]\n",
      "\n",
      "\n",
      "WENC_L: [0.0, 0, 0.5001106262207031]\n",
      "WENC_L: [0.0, 0, 0.5001363754272461]\n",
      "WENC_L: [0.0, 0, 0.5003268718719482]\n",
      "WENC_L: [0.0, 0, 0.5002501010894775]\n",
      "WENC_L: [0.0, 0, 0.5000851154327393]\n",
      "WENC_L: [0.0, 0, 0.5002129077911377]\n",
      "WENC_L: [0.0, 0, 0.5002002716064453]\n",
      "WENC_L: [0.0, 0, 0.5001263618469238]\n",
      "WENC_L: [0.0, 0, 0.5002138614654541]\n",
      "WENC_L: [0.0, 0, 0.5000019073486328]\n",
      "\n",
      "\n",
      "WENC_R: [0.0, 0, 0.5003464221954346]\n",
      "WENC_R: [0.0, 0, 0.5002961158752441]\n",
      "WENC_R: [0.0, 0, 0.5001561641693115]\n",
      "WENC_R: [0.0, 0, 0.5004127025604248]\n",
      "WENC_R: [0.0, 0, 0.5003662109375]\n",
      "WENC_R: [0.0, 0, 0.5004394054412842]\n",
      "WENC_R: [0.0, 0, 0.5001709461212158]\n",
      "WENC_R: [0.0, 0, 0.5003669261932373]\n",
      "WENC_R: [0.0, 0, 0.5002713203430176]\n",
      "WENC_R: [0.0, 0, 0.5004281997680664]\n"
     ]
    }
   ],
   "source": [
    "from jetbot import Robot\n",
    "import time\n",
    "from grayson_bot import Grayson\n",
    "from sensor_state_manager import Sensor_State_Manager\n",
    "from test_data_persistence import Test_Data_Persistence\n",
    "from test_data_manager import Test_Data_Manager\n",
    "    \n",
    "\n",
    "def run_individual_command_test(left_input, right_input, deltaT):\n",
    "    grayson = Grayson()\n",
    "    motor_inputs = [[left_input, right_input, deltaT]]\n",
    "    \n",
    "    grayson.run_test(motor_inputs)\n",
    "\n",
    "def run_incremental_commands_test():\n",
    "    pass\n",
    "\n",
    "run_individual_command_test(0.8,0.8, 5)\n"
   ]
  },
  {
   "cell_type": "code",
   "execution_count": null,
   "metadata": {},
   "outputs": [],
   "source": []
  },
  {
   "cell_type": "code",
   "execution_count": null,
   "metadata": {},
   "outputs": [],
   "source": []
  }
 ],
 "metadata": {
  "kernelspec": {
   "display_name": "Python 3",
   "language": "python",
   "name": "python3"
  },
  "language_info": {
   "codemirror_mode": {
    "name": "ipython",
    "version": 3
   },
   "file_extension": ".py",
   "mimetype": "text/x-python",
   "name": "python",
   "nbconvert_exporter": "python",
   "pygments_lexer": "ipython3",
   "version": "3.6.9"
  }
 },
 "nbformat": 4,
 "nbformat_minor": 4
}
